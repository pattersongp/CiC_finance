{
 "cells": [
  {
   "cell_type": "markdown",
   "metadata": {},
   "source": [
    "# Last Lab\n",
    "\n",
    "### Agenda\n",
    "- knapsack\n",
    "- after 1002\n",
    "- homework, general questions"
   ]
  },
  {
   "cell_type": "markdown",
   "metadata": {},
   "source": [
    "# Knapsack Problem\n",
    "\n",
    "## Overview\n",
    "I want to put some items into a knapsack. Each of these items have 2 properties, value and weight. My knapsack only holds a specific amount of weight, but I want to maximize my value.\n",
    "\n",
    "### Examples\n",
    "- going to McDonalds with 6.73 How many calories can I get into my body? What combination of food will get me closest to 6.73, and maximize my caloric intake?\n",
    "- I'm a robber going into a bank. I want to steal their gold bars of varying weights. I can only carry 22kg. What combination of gold bars will get me closest to 22kg?\n",
    "\n",
    "## Dynamic Programming Solution\n",
    "1. Formulate a recursive solution\n",
    "    - Create a recursive solution to the problem, which we know will take a long time, but we can work with.\n",
    "2. Memorize intermediate steps\n",
    "    - This is sometimes called \"memoization\". Things that should be memorized are called overlapping subproblems. Why would you compute something that you already computed? Store the data somewhere, then reference that storage later.\n",
    "    \n",
    "  "
   ]
  },
  {
   "cell_type": "markdown",
   "metadata": {},
   "source": [
    "## Resources\n",
    "\n",
    "[link](https://www.youtube.com/watch?v=xOlhR_2QCXY&feature=youtu.be) for a video that works through a knapsack example.\n",
    "\n",
    "### Recursive Example worked out:"
   ]
  },
  {
   "cell_type": "markdown",
   "metadata": {},
   "source": [
    "![Example of Recursive Approach](ec-example.png)"
   ]
  },
  {
   "cell_type": "markdown",
   "metadata": {},
   "source": [
    "# Life after 1002?"
   ]
  },
  {
   "cell_type": "markdown",
   "metadata": {},
   "source": [
    "## Visualizations\n",
    "- **Plotly** is a great tool that lets your build beautiful, interactive visualizations for free. [link](https://plot.ly/)\n",
    "    - check out this [link](https://plot.ly/~pattersongp/17) for a visualization I made and this [one](https://plot.ly/python/) for more examples and the python specific documentation\n",
    "- **Matplotlib** is your tool for quick visualizations\n",
    "\n",
    "## Data\n",
    "- Pandas. period.\n",
    "    - learn how to use the `apply()` function\n",
    "\n",
    "## Machine Learning\n",
    "- Tensorflow/Keras is good for building nueral nets and experimenting.\n",
    "- Scikit-Learn is great if you don't care about the details. [link](http://scikit-learn.org/stable/)\n",
    "    - I cannot endorse this enough^^\n",
    "    \n",
    "## Did you _really_ like this class?\n",
    "- Take 1004! Learn more about computer science and algorithmic problem solving.\n",
    "- Don't really want to do 1004, but want to solve more problems?\n",
    "    - [MIT opencourseware](https://www.youtube.com/user/MIT) is a great resource to learn more about Python, problem solving, data analysis, and other topics."
   ]
  },
  {
   "cell_type": "code",
   "execution_count": null,
   "metadata": {
    "collapsed": true
   },
   "outputs": [],
   "source": []
  }
 ],
 "metadata": {
  "kernelspec": {
   "display_name": "Python [default]",
   "language": "python",
   "name": "python3"
  },
  "language_info": {
   "codemirror_mode": {
    "name": "ipython",
    "version": 3
   },
   "file_extension": ".py",
   "mimetype": "text/x-python",
   "name": "python",
   "nbconvert_exporter": "python",
   "pygments_lexer": "ipython3",
   "version": "3.5.2"
  }
 },
 "nbformat": 4,
 "nbformat_minor": 2
}
